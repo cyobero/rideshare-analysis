{
 "cells": [
  {
   "cell_type": "markdown",
   "id": "26cdfa2c-62b5-4497-87e5-997537c6fbb9",
   "metadata": {},
   "source": [
    "# Exploratory Data Analysis of Rideshare Data"
   ]
  },
  {
   "cell_type": "code",
   "execution_count": null,
   "id": "480a2164-9dde-465c-9657-0de175531da6",
   "metadata": {},
   "outputs": [],
   "source": []
  }
 ],
 "metadata": {
  "kernelspec": {
   "display_name": "Python 3 (ipykernel)",
   "language": "python",
   "name": "python3"
  },
  "language_info": {
   "codemirror_mode": {
    "name": "ipython",
    "version": 3
   },
   "file_extension": ".py",
   "mimetype": "text/x-python",
   "name": "python",
   "nbconvert_exporter": "python",
   "pygments_lexer": "ipython3",
   "version": "3.11.6"
  }
 },
 "nbformat": 4,
 "nbformat_minor": 5
}
